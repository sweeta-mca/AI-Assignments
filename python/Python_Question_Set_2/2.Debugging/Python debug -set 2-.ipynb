{
 "cells": [
  {
   "cell_type": "code",
   "execution_count": 6,
   "id": "b7f5bfff-b6b2-471c-98cb-5461245ba003",
   "metadata": {},
   "outputs": [
    {
     "name": "stdout",
     "output_type": "stream",
     "text": [
      "4.0\n"
     ]
    }
   ],
   "source": [
    "#Corrected Code\n",
    "import math\n",
    "print(math.sqrt(16))"
   ]
  },
  {
   "cell_type": "code",
   "execution_count": 8,
   "id": "c05f558f-ee0e-4b86-8a62-0661f0d5d3d8",
   "metadata": {},
   "outputs": [
    {
     "name": "stdout",
     "output_type": "stream",
     "text": [
      "15\n"
     ]
    }
   ],
   "source": [
    "#2.Corrected\n",
    "def my_function(x):\n",
    "    x += 5\n",
    "    print(x)\n",
    "\n",
    "x = 10\n",
    "my_function(x)\n"
   ]
  },
  {
   "cell_type": "code",
   "execution_count": null,
   "id": "f23899ca",
   "metadata": {},
   "outputs": [],
   "source": [
    "#3.x = 5\n",
    "if x = 10:\n",
    "    print(\"x is 10\")\n"
   ]
  },
  {
   "cell_type": "code",
   "execution_count": 13,
   "id": "fa2a7452-5999-4f59-9579-34c7da07a729",
   "metadata": {},
   "outputs": [],
   "source": [
    "#3.Correcred\n",
    "x=5\n",
    "if x == 10:\n",
    "    print(\"x is 10\")\n"
   ]
  },
  {
   "cell_type": "code",
   "execution_count": 16,
   "id": "c644c2f2",
   "metadata": {},
   "outputs": [
    {
     "name": "stdout",
     "output_type": "stream",
     "text": [
      "[2, 3, 5, 8]\n"
     ]
    }
   ],
   "source": [
    "#4. Corrected \n",
    "numbers = [5, 3, 8, 2]\n",
    "numbers.sort()\n",
    "print(numbers)\n"
   ]
  },
  {
   "cell_type": "code",
   "execution_count": 18,
   "id": "c6bc9bfb",
   "metadata": {},
   "outputs": [
    {
     "name": "stdout",
     "output_type": "stream",
     "text": [
      "16\n"
     ]
    }
   ],
   "source": [
    "#5. Corrected\n",
    "def square(n):\n",
    "    return n * n\n",
    "\n",
    "print(square(4))\n"
   ]
  },
  {
   "cell_type": "code",
   "execution_count": 22,
   "id": "3a9dbcc0",
   "metadata": {},
   "outputs": [
    {
     "name": "stdout",
     "output_type": "stream",
     "text": [
      "(1, 5, 3)\n"
     ]
    }
   ],
   "source": [
    "#6. Corrected\n",
    "my_tuple = (1, 2, 3)\n",
    "a,b,c = my_tuple\n",
    "b=5\n",
    "my_tuple = (a,b,c)\n",
    "print(my_tuple)\n"
   ]
  },
  {
   "cell_type": "code",
   "execution_count": 24,
   "id": "4a72685b",
   "metadata": {},
   "outputs": [
    {
     "name": "stdout",
     "output_type": "stream",
     "text": [
      "My name is Alice and I am 25 years old\n"
     ]
    }
   ],
   "source": [
    "#7. Corrected\n",
    "name = \"Alice\"\n",
    "age = 25\n",
    "print(\"My name is %s and I am %d years old\" % (name,age))\n"
   ]
  },
  {
   "cell_type": "code",
   "execution_count": 26,
   "id": "3de969fe",
   "metadata": {},
   "outputs": [
    {
     "name": "stdout",
     "output_type": "stream",
     "text": [
      "Lists are equal\n"
     ]
    }
   ],
   "source": [
    "#8.Corrected\n",
    "a = [1, 2, 3]\n",
    "b = [1, 2, 3]\n",
    "if a == b:\n",
    "    print(\"Lists are equal\")\n"
   ]
  },
  {
   "cell_type": "code",
   "execution_count": 28,
   "id": "dbe38465",
   "metadata": {},
   "outputs": [
    {
     "name": "stdout",
     "output_type": "stream",
     "text": [
      "5\n",
      "4\n",
      "3\n",
      "2\n"
     ]
    }
   ],
   "source": [
    "#9.Corrected\n",
    "for i in range(5, 1,-1):\n",
    "    print(i)\n"
   ]
  },
  {
   "cell_type": "code",
   "execution_count": 30,
   "id": "30cb0523",
   "metadata": {},
   "outputs": [
    {
     "name": "stdout",
     "output_type": "stream",
     "text": [
      "John\n"
     ]
    }
   ],
   "source": [
    "#10.Corrected\n",
    "student = {\"name\": \"John\", \"age\": 20}\n",
    "print(student[\"name\"])\n"
   ]
  }
 ],
 "metadata": {
  "kernelspec": {
   "display_name": "Python [conda env:base] *",
   "language": "python",
   "name": "conda-base-py"
  },
  "language_info": {
   "codemirror_mode": {
    "name": "ipython",
    "version": 3
   },
   "file_extension": ".py",
   "mimetype": "text/x-python",
   "name": "python",
   "nbconvert_exporter": "python",
   "pygments_lexer": "ipython3",
   "version": "3.13.5"
  }
 },
 "nbformat": 4,
 "nbformat_minor": 5
}
