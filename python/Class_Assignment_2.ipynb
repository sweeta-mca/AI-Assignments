{
 "cells": [
  {
   "cell_type": "code",
   "execution_count": 3,
   "id": "65a7f410-14be-43c7-9136-9474637f9db7",
   "metadata": {},
   "outputs": [],
   "source": [
    "\n",
    "from multiFunctions import HopeFunctions"
   ]
  },
  {
   "cell_type": "code",
   "execution_count": 4,
   "id": "b4ebac26-598b-44de-84aa-22957c0d7198",
   "metadata": {},
   "outputs": [
    {
     "name": "stdout",
     "output_type": "stream",
     "text": [
      "Sub-fields in AI are:\n",
      "Machine Learning\n",
      "Neural Networks\n",
      "Vision\n",
      "Robotics\n",
      "Speech Processing\n",
      "Natural Language Processing\n"
     ]
    }
   ],
   "source": [
    "HopeFunctions.aiSubFields()"
   ]
  },
  {
   "cell_type": "code",
   "execution_count": 7,
   "id": "7d6549eb-24f5-4b2b-9ff5-4c16175be5db",
   "metadata": {},
   "outputs": [
    {
     "name": "stdin",
     "output_type": "stream",
     "text": [
      "Enter a number:  52542\n"
     ]
    },
    {
     "name": "stdout",
     "output_type": "stream",
     "text": [
      "52542 is Even Number\n"
     ]
    }
   ],
   "source": [
    "num = int(input(\"Enter a number: \"))\n",
    "instance = OddEven()\n",
    "instance.oddEven(num)   "
   ]
  },
  {
   "cell_type": "code",
   "execution_count": 8,
   "id": "87a4004f-ee01-4157-9214-8a9f6a24dafb",
   "metadata": {},
   "outputs": [
    {
     "name": "stdin",
     "output_type": "stream",
     "text": [
      "Your Gender :  male\n",
      "your age :  23\n"
     ]
    },
    {
     "name": "stdout",
     "output_type": "stream",
     "text": [
      "ELIGIBLE\n"
     ]
    }
   ],
   "source": [
    "# Create a class and function that tells elegibility of marriage for male and female according to their age limit like 21 for male and 18 for female\n",
    "gender = input(\"Your Gender : \")\n",
    "age = int(input(\"your age : \"))\n",
    "instance = HopeFunctions()\n",
    "print(\"ELIGIBLE\" if instance.eligibleForMarriage(gender,age) else \"NOT ELIGIBLE\")  "
   ]
  },
  {
   "cell_type": "code",
   "execution_count": 10,
   "id": "2550eb36-e0e1-4a8a-a796-a90a0db964f5",
   "metadata": {},
   "outputs": [
    {
     "name": "stdin",
     "output_type": "stream",
     "text": [
      "Subject1= 98\n",
      "Subject2= 87\n",
      "Subject3= 95\n",
      "Subject4= 95\n",
      "Subject5= 93\n"
     ]
    },
    {
     "name": "stdout",
     "output_type": "stream",
     "text": [
      "Total : 468\n",
      "Percentage : 93.60000000000001\n"
     ]
    }
   ],
   "source": [
    "def _main():\n",
    "    subject1 = int(input(\"Subject1=\"))\n",
    "    subject2 = int(input(\"Subject2=\"))\n",
    "    subject3 = int(input(\"Subject3=\"))\n",
    "    subject4 = int(input(\"Subject4=\"))\n",
    "    subject5 = int(input(\"Subject5=\"))\n",
    "    obj = HopeFunctions()\n",
    "    obj.percentage(subject1,subject2,subject3,subject4,subject5)\n",
    "_main()"
   ]
  },
  {
   "cell_type": "code",
   "execution_count": 12,
   "id": "409cd6a0-c36c-412d-a064-932b8bc2167e",
   "metadata": {},
   "outputs": [
    {
     "name": "stdout",
     "output_type": "stream",
     "text": [
      "Find Area of Triangle\n"
     ]
    },
    {
     "name": "stdin",
     "output_type": "stream",
     "text": [
      "Height: 32\n",
      "Breadth: 34\n"
     ]
    },
    {
     "name": "stdout",
     "output_type": "stream",
     "text": [
      "Area Formula : (Height*Breadth)/2\n",
      "Area of Triangle:544.0\n",
      "Find Perimeter of Triangle\n"
     ]
    },
    {
     "name": "stdin",
     "output_type": "stream",
     "text": [
      "Height: 4\n",
      "Height2: 4\n",
      "Breadth: 2\n"
     ]
    },
    {
     "name": "stdout",
     "output_type": "stream",
     "text": [
      "Perimeter Formula : Height1+Height2+Breadth\n",
      "Perimeter of Triangle:10.0\n"
     ]
    }
   ],
   "source": [
    "### print area and perimeter of triangle using functions and class\n",
    "HopeFunctions.triangle()"
   ]
  }
 ],
 "metadata": {
  "kernelspec": {
   "display_name": "Python [conda env:base] *",
   "language": "python",
   "name": "conda-base-py"
  },
  "language_info": {
   "codemirror_mode": {
    "name": "ipython",
    "version": 3
   },
   "file_extension": ".py",
   "mimetype": "text/x-python",
   "name": "python",
   "nbconvert_exporter": "python",
   "pygments_lexer": "ipython3",
   "version": "3.13.5"
  }
 },
 "nbformat": 4,
 "nbformat_minor": 5
}
