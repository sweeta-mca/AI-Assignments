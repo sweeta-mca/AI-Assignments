{
 "cells": [
  {
   "cell_type": "code",
   "execution_count": 47,
   "id": "65a7f410-14be-43c7-9136-9474637f9db7",
   "metadata": {},
   "outputs": [
    {
     "ename": "ImportError",
     "evalue": "cannot import name 'HopeFunctions' from 'MultiFunctions' (D:\\Hope\\AI Assignments\\python\\MultiFunctions.py)",
     "output_type": "error",
     "traceback": [
      "\u001b[1;31m---------------------------------------------------------------------------\u001b[0m",
      "\u001b[1;31mImportError\u001b[0m                               Traceback (most recent call last)",
      "Cell \u001b[1;32mIn[47], line 1\u001b[0m\n\u001b[1;32m----> 1\u001b[0m \u001b[38;5;28;01mfrom\u001b[39;00m\u001b[38;5;250m \u001b[39m\u001b[38;5;21;01mMultiFunctions\u001b[39;00m\u001b[38;5;250m \u001b[39m\u001b[38;5;28;01mimport\u001b[39;00m HopeFunctions\n",
      "\u001b[1;31mImportError\u001b[0m: cannot import name 'HopeFunctions' from 'MultiFunctions' (D:\\Hope\\AI Assignments\\python\\MultiFunctions.py)"
     ]
    }
   ],
   "source": [
    "\n",
    "from MultiFunctions import HopeFunctions"
   ]
  },
  {
   "cell_type": "code",
   "execution_count": null,
   "id": "eecc8dea-83a9-4d42-b014-d5ac60b013b3",
   "metadata": {},
   "outputs": [],
   "source": []
  },
  {
   "cell_type": "code",
   "execution_count": 46,
   "id": "b4ebac26-598b-44de-84aa-22957c0d7198",
   "metadata": {},
   "outputs": [
    {
     "ename": "NameError",
     "evalue": "name 'HopeFunctions' is not defined",
     "output_type": "error",
     "traceback": [
      "\u001b[1;31m---------------------------------------------------------------------------\u001b[0m",
      "\u001b[1;31mNameError\u001b[0m                                 Traceback (most recent call last)",
      "Cell \u001b[1;32mIn[46], line 1\u001b[0m\n\u001b[1;32m----> 1\u001b[0m HopeFunctions\u001b[38;5;241m.\u001b[39maiSubFields()\n",
      "\u001b[1;31mNameError\u001b[0m: name 'HopeFunctions' is not defined"
     ]
    }
   ],
   "source": [
    "HopeFunctions.aiSubFields()"
   ]
  },
  {
   "cell_type": "code",
   "execution_count": 14,
   "id": "7d6549eb-24f5-4b2b-9ff5-4c16175be5db",
   "metadata": {},
   "outputs": [
    {
     "name": "stdin",
     "output_type": "stream",
     "text": [
      "Enter a number:  54252\n"
     ]
    },
    {
     "name": "stdout",
     "output_type": "stream",
     "text": [
      "54252 is Even Number\n"
     ]
    }
   ],
   "source": [
    "# Create a class and  function that checks whether the given number is Odd or Even\n",
    "class OddEven:\n",
    "    def isOdd(self,num):\n",
    "        return (num % 2 !=0)    \n",
    "    def oddEven(self,num):\n",
    "        if self.isOdd(num) :\n",
    "            print(f\"{num} is Odd Number\")\n",
    "        else:\n",
    "            print(f\"{num} is Even Number\")\n",
    "\n",
    "def _main():\n",
    "    num = int(input(\"Enter a number: \"))\n",
    "    instance = OddEven()\n",
    "    instance.oddEven(num)   \n",
    "\n",
    "_main()\n"
   ]
  },
  {
   "cell_type": "code",
   "execution_count": 15,
   "id": "87a4004f-ee01-4157-9214-8a9f6a24dafb",
   "metadata": {},
   "outputs": [
    {
     "name": "stdin",
     "output_type": "stream",
     "text": [
      "Your Gender :  male\n",
      "your age :  20\n"
     ]
    },
    {
     "name": "stdout",
     "output_type": "stream",
     "text": [
      "NOT ELIGIBLE\n"
     ]
    }
   ],
   "source": [
    "# Create a class and function that tells elegibility of marriage for male and female according to their age limit like 21 for male and 18 for female\n",
    "class ElegiblityForMarriage:\n",
    "    def eligibleForMarriage(self,gender,age):\n",
    "        eligible = False\n",
    "        if(gender == \"male\" and age > 21):\n",
    "            eligible= True\n",
    "        if(gender == \"female\" and age >18):\n",
    "            eligible = True\n",
    "        return eligible\n",
    "        \n",
    "def _main():\n",
    "    gender = input(\"Your Gender : \")\n",
    "    age = int(input(\"your age : \"))\n",
    "    instance = ElegiblityForMarriage()\n",
    "    print(\"ELIGIBLE\" if instance.eligibleForMarriage(gender,age) else \"NOT ELIGIBLE\")  \n",
    "\n",
    "_main()"
   ]
  },
  {
   "cell_type": "code",
   "execution_count": 17,
   "id": "2550eb36-e0e1-4a8a-a796-a90a0db964f5",
   "metadata": {},
   "outputs": [
    {
     "name": "stdin",
     "output_type": "stream",
     "text": [
      "Subject1= 98\n",
      "Subject2= 87\n",
      "Subject3= 95\n",
      "Subject4= 95\n",
      "Subject5= 93\n"
     ]
    },
    {
     "name": "stdout",
     "output_type": "stream",
     "text": [
      "Total : 468\n",
      "Percentage : 93.60000000000001\n"
     ]
    }
   ],
   "source": [
    "# calculate the percentage of your 10th mark\n",
    "class FindPercent:\n",
    "    def percentage(self,s1,s2,s3,s4,s5):\n",
    "        total = s1+s2+s3+s4+s5\n",
    "        percentage = (total/500)*100\n",
    "        print(f\"Total : {total}\")\n",
    "        print(f\"Percentage : {percentage}\")\n",
    "\n",
    "def _main():\n",
    "    subject1 = int(input(\"Subject1=\"))\n",
    "    subject2 = int(input(\"Subject2=\"))\n",
    "    subject3 = int(input(\"Subject3=\"))\n",
    "    subject4 = int(input(\"Subject4=\"))\n",
    "    subject5 = int(input(\"Subject5=\"))\n",
    "    obj = FindPercent()\n",
    "    obj.percentage(subject1,subject2,subject3,subject4,subject5)\n",
    "_main()"
   ]
  },
  {
   "cell_type": "code",
   "execution_count": 19,
   "id": "409cd6a0-c36c-412d-a064-932b8bc2167e",
   "metadata": {},
   "outputs": [
    {
     "name": "stdout",
     "output_type": "stream",
     "text": [
      "Find Area of Triangle\n"
     ]
    },
    {
     "name": "stdin",
     "output_type": "stream",
     "text": [
      "Height: 32\n",
      "Breadth: 34\n"
     ]
    },
    {
     "name": "stdout",
     "output_type": "stream",
     "text": [
      "Area Formula : (Height*Breadth)/2\n",
      "Area of Triangle:544.0\n",
      "Find Perimeter of Triangle\n"
     ]
    },
    {
     "name": "stdin",
     "output_type": "stream",
     "text": [
      "Height: 2\n",
      "Height2: 4\n",
      "Breadth: 4\n"
     ]
    },
    {
     "name": "stdout",
     "output_type": "stream",
     "text": [
      "Perimeter Formula : Height1+Height2+Breadth\n",
      "Perimeter of Triangle:10.0\n"
     ]
    }
   ],
   "source": [
    "### print area and perimeter of triangle using functions and class\n",
    "class Triangle:\n",
    "    def area(self,height,breadth):\n",
    "        return 0.5*breadth*height\n",
    "    def perimeter(self,height1,height2,breadth):\n",
    "        return height1+height2+breadth\n",
    "    def triangle(self):\n",
    "        print(\"Find Area of Triangle\")\n",
    "        height = float(input(\"Height:\"))\n",
    "        breadth = float(input(\"Breadth:\"))\n",
    "        print(\"Area Formula : (Height*Breadth)/2\")\n",
    "        a = self.area(height,breadth)\n",
    "        print(f\"Area of Triangle:{a}\")\n",
    "        print(\"Find Perimeter of Triangle\")\n",
    "        height1 = float(input(\"Height:\"))\n",
    "        height2= float(input(\"Height2:\"))\n",
    "        breadth = float(input(\"Breadth:\"))\n",
    "        p = self.perimeter(height1,height2,breadth)\n",
    "        print(\"Perimeter Formula : Height1+Height2+Breadth\")\n",
    "        print(f\"Perimeter of Triangle:{p}\")   \n",
    "\n",
    "def _main():\n",
    "    obj = Triangle()\n",
    "    obj.triangle()\n",
    "\n",
    "_main()"
   ]
  }
 ],
 "metadata": {
  "kernelspec": {
   "display_name": "Python [conda env:base] *",
   "language": "python",
   "name": "conda-base-py"
  },
  "language_info": {
   "codemirror_mode": {
    "name": "ipython",
    "version": 3
   },
   "file_extension": ".py",
   "mimetype": "text/x-python",
   "name": "python",
   "nbconvert_exporter": "python",
   "pygments_lexer": "ipython3",
   "version": "3.13.5"
  }
 },
 "nbformat": 4,
 "nbformat_minor": 5
}
