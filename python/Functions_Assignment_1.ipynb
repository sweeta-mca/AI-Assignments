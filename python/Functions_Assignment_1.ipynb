{
 "cells": [
  {
   "cell_type": "code",
   "execution_count": 5,
   "id": "65a7f410-14be-43c7-9136-9474637f9db7",
   "metadata": {},
   "outputs": [
    {
     "name": "stdout",
     "output_type": "stream",
     "text": [
      "Sub-fields in AI are:\n",
      "Machine Learning\n",
      "Neural Networks\n",
      "Vision\n",
      "Robotics\n",
      "Speech Processing\n",
      "Natural Language Processing\n"
     ]
    }
   ],
   "source": [
    "# Create a function, and list out the items in the list\n",
    "def aiSubFields():\n",
    "    ai_fields = [\"Machine Learning\", \"Neural Networks\",\"Vision\",\"Robotics\",\"Speech Processing\",\"Natural Language Processing\"]\n",
    "    print(\"Sub-fields in AI are:\")\n",
    "    for field in ai_fields:\n",
    "        print(field)\n",
    "\n",
    "aiSubFields()"
   ]
  },
  {
   "cell_type": "code",
   "execution_count": 13,
   "id": "7d6549eb-24f5-4b2b-9ff5-4c16175be5db",
   "metadata": {},
   "outputs": [
    {
     "name": "stdin",
     "output_type": "stream",
     "text": [
      "Enter a number:  52452\n"
     ]
    },
    {
     "name": "stdout",
     "output_type": "stream",
     "text": [
      "52452 is Even Number\n"
     ]
    }
   ],
   "source": [
    "# Create a function that checks whether the given number is Odd or Even\n",
    "def isOdd(num):\n",
    "    return (num % 2 !=0)\n",
    "\n",
    "def oddEven(num):\n",
    "    if isOdd(num) :\n",
    "        print(f\"{num} is Odd Number\")\n",
    "    else:\n",
    "        print(f\"{num} is Even Number\")\n",
    "        \n",
    "num = int(input(\"Enter a number: \"))\n",
    "oddEven(num)     \n"
   ]
  },
  {
   "cell_type": "code",
   "execution_count": 19,
   "id": "87a4004f-ee01-4157-9214-8a9f6a24dafb",
   "metadata": {},
   "outputs": [
    {
     "name": "stdin",
     "output_type": "stream",
     "text": [
      "Your Gender :  male\n",
      "your age :  20\n"
     ]
    },
    {
     "name": "stdout",
     "output_type": "stream",
     "text": [
      "NOT ELIGIBLE\n"
     ]
    }
   ],
   "source": [
    "# Create a function that tells elegibility of marriage for male and female according to their age limit like 21 for male and 18 for female\n",
    "def eligibleForMarriage(gender,age):\n",
    "    eligible = False\n",
    "    if(gender == \"male\" and age > 21):\n",
    "        eligible= True\n",
    "    if(gender == \"female\" and age >18):\n",
    "        eligible = True\n",
    "    return eligible\n",
    "\n",
    "gender = input(\"Your Gender : \")\n",
    "age = int(input(\"your age : \"))\n",
    "print(\"ELIGIBLE\" if eligibleForMarriage(gender,age) else \"NOT ELIGIBLE\")   "
   ]
  },
  {
   "cell_type": "code",
   "execution_count": 24,
   "id": "2550eb36-e0e1-4a8a-a796-a90a0db964f5",
   "metadata": {},
   "outputs": [
    {
     "name": "stdin",
     "output_type": "stream",
     "text": [
      "Subject1= 98\n",
      "Subject2= 87\n",
      "Subject3= 95\n",
      "Subject4= 95\n",
      "Subject5= 93\n"
     ]
    },
    {
     "name": "stdout",
     "output_type": "stream",
     "text": [
      "Total : 468\n",
      "Percentage : 93.60000000000001\n"
     ]
    }
   ],
   "source": [
    "# calculate the percentage of your 10th mark\n",
    "def percentage(s1,s2,s3,s4,s5):\n",
    "    total = s1+s2+s3+s4+s5\n",
    "    percentage = (total/500)*100\n",
    "    print(f\"Total : {total}\")\n",
    "    print(f\"Percentage : {percentage}\")\n",
    "\n",
    "subject1 = int(input(\"Subject1=\"))\n",
    "subject2 = int(input(\"Subject2=\"))\n",
    "subject3 = int(input(\"Subject3=\"))\n",
    "subject4 = int(input(\"Subject4=\"))\n",
    "subject5 = int(input(\"Subject5=\"))\n",
    "percentage(subject1,subject2,subject3,subject4,subject5)"
   ]
  },
  {
   "cell_type": "code",
   "execution_count": 33,
   "id": "409cd6a0-c36c-412d-a064-932b8bc2167e",
   "metadata": {},
   "outputs": [
    {
     "name": "stdout",
     "output_type": "stream",
     "text": [
      "Find Area of Triangle\n"
     ]
    },
    {
     "name": "stdin",
     "output_type": "stream",
     "text": [
      "Height: 32\n",
      "Breadth: 34\n"
     ]
    },
    {
     "name": "stdout",
     "output_type": "stream",
     "text": [
      "Area Formula : (Height*Breadth)/2\n",
      "Area of Triangle:544.0\n",
      "Find Perimeter of Triangle\n"
     ]
    },
    {
     "name": "stdin",
     "output_type": "stream",
     "text": [
      "Height: 2\n",
      "Height2: 4\n",
      "Breadth: 4\n"
     ]
    },
    {
     "name": "stdout",
     "output_type": "stream",
     "text": [
      "Perimeter Formula : Height1+Height2+Breadth\n",
      "Perimeter of Triangle:10.0\n"
     ]
    }
   ],
   "source": [
    "#print area and perimeter of triangle using functions\n",
    "def area(height,breadth):\n",
    "    return 0.5*breadth*height\n",
    "def perimeter(height1,height2,breadth):\n",
    "    return height1+height2+breadth\n",
    "def triangle():\n",
    "    print(\"Find Area of Triangle\")\n",
    "    height = float(input(\"Height:\"))\n",
    "    breadth = float(input(\"Breadth:\"))\n",
    "    print(\"Area Formula : (Height*Breadth)/2\")\n",
    "    a = area(height,breadth)\n",
    "    print(f\"Area of Triangle:{a}\")\n",
    "    print(\"Find Perimeter of Triangle\")\n",
    "    height1 = float(input(\"Height:\"))\n",
    "    height2= float(input(\"Height2:\"))\n",
    "    breadth = float(input(\"Breadth:\"))\n",
    "    p = perimeter(height1,height2,breadth)\n",
    "    print(\"Perimeter Formula : Height1+Height2+Breadth\")\n",
    "    print(f\"Perimeter of Triangle:{p}\")   \n",
    "\n",
    "triangle()"
   ]
  }
 ],
 "metadata": {
  "kernelspec": {
   "display_name": "Python [conda env:base] *",
   "language": "python",
   "name": "conda-base-py"
  },
  "language_info": {
   "codemirror_mode": {
    "name": "ipython",
    "version": 3
   },
   "file_extension": ".py",
   "mimetype": "text/x-python",
   "name": "python",
   "nbconvert_exporter": "python",
   "pygments_lexer": "ipython3",
   "version": "3.13.5"
  }
 },
 "nbformat": 4,
 "nbformat_minor": 5
}
