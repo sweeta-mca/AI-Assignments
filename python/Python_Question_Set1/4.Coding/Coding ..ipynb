{
 "cells": [
  {
   "cell_type": "code",
   "execution_count": 27,
   "id": "5fd5c475",
   "metadata": {},
   "outputs": [
    {
     "name": "stdout",
     "output_type": "stream",
     "text": [
      "1 2 3 4 5 "
     ]
    }
   ],
   "source": [
    "\"\"\"1.Write a Python program that prints numbers from 1 to 5.\n",
    "Expected Output:\n",
    "1 2 3 4 5 \"\"\"\n",
    "for num in range(1,6) :\n",
    "    print(f\"{num}\", end=\" \")"
   ]
  },
  {
   "cell_type": "code",
   "execution_count": 26,
   "id": "3c8bc472",
   "metadata": {},
   "outputs": [
    {
     "name": "stdout",
     "output_type": "stream",
     "text": [
      "2 4 6 8 10 "
     ]
    }
   ],
   "source": [
    "'''2.Write a Python program to print the first 5 even numbers. Expected Output:\n",
    "#2 4 6 8 10'''\n",
    "for num in range(2,12,2) :\n",
    "    print(f\"{num}\", end=\" \")\n"
   ]
  },
  {
   "cell_type": "code",
   "execution_count": 11,
   "id": "5e7af211",
   "metadata": {},
   "outputs": [
    {
     "name": "stdout",
     "output_type": "stream",
     "text": [
      "55\n"
     ]
    }
   ],
   "source": [
    "\"\"\"3.Write a Python program to print the sum of numbers from 1 to 10. \n",
    "Expected Output:55\"\"\"\n",
    "sum=0\n",
    "for num in range(1,11) :\n",
    "    sum+=num\n",
    "print(f\"{sum}\")\n"
   ]
  },
  {
   "cell_type": "code",
   "execution_count": 32,
   "id": "ac09aa1a",
   "metadata": {},
   "outputs": [
    {
     "name": "stdin",
     "output_type": "stream",
     "text": [
      "Enter the number:  3\n"
     ]
    },
    {
     "name": "stdout",
     "output_type": "stream",
     "text": [
      "Factorial of 3 is 6\n"
     ]
    }
   ],
   "source": [
    "\"\"\"4.Write a Python function to find the factorial of 5. Expected Output:\n",
    "120\"\"\"\n",
    "def fact(n):\n",
    "    if(n==1):\n",
    "        return 1\n",
    "    return n * fact(n-1)\n",
    "\n",
    "num = int(input(\"Enter the number: \"))\n",
    "print(f\"Factorial of {num} is {fact(num)}\")\n"
   ]
  },
  {
   "cell_type": "code",
   "execution_count": 28,
   "id": "8ab9fc8a",
   "metadata": {},
   "outputs": [
    {
     "name": "stdin",
     "output_type": "stream",
     "text": [
      "Enter the number:  7\n"
     ]
    },
    {
     "name": "stdout",
     "output_type": "stream",
     "text": [
      "7 is a prime number\n"
     ]
    }
   ],
   "source": [
    "\"\"\"5.Write a Python program to check if a number is prime. Expected Output (for input 7):\n",
    "7 is a prime number\"\"\"\n",
    "\n",
    "def isPrime(num, i=2):\n",
    "    if(num <= 2):\n",
    "        return True if(num==2) else False\n",
    "    if(num%i==0):\n",
    "        return False\n",
    "    if((i*i) > num): \n",
    "        return True\n",
    "    return isPrime(num,i+1)\n",
    "        \n",
    "num = int(input(\"Enter the number: \"))\n",
    "if(isPrime(num)):\n",
    "          print(f\"{num} is a prime number\")\n",
    "else:\n",
    "    print(f\"{num} is not a prime number\")\n",
    "\n"
   ]
  }
 ],
 "metadata": {
  "kernelspec": {
   "display_name": "Python [conda env:base] *",
   "language": "python",
   "name": "conda-base-py"
  },
  "language_info": {
   "codemirror_mode": {
    "name": "ipython",
    "version": 3
   },
   "file_extension": ".py",
   "mimetype": "text/x-python",
   "name": "python",
   "nbconvert_exporter": "python",
   "pygments_lexer": "ipython3",
   "version": "3.13.5"
  }
 },
 "nbformat": 4,
 "nbformat_minor": 5
}
